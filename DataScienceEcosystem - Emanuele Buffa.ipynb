{
 "cells": [
  {
   "cell_type": "markdown",
   "id": "e10a7189-fc0a-4960-ac84-ad10efe716e9",
   "metadata": {},
   "source": [
    "# Data Science Tools and Ecosystem"
   ]
  },
  {
   "cell_type": "markdown",
   "id": "8721e32a-0dec-4542-b4a5-3be9bf0746c4",
   "metadata": {
    "tags": []
   },
   "source": [
    "## In this notebook, Data Science Tools and Ecosystem are summarized"
   ]
  },
  {
   "cell_type": "markdown",
   "id": "1de9f6a5-af7e-4f65-aedc-b945ab6f0e96",
   "metadata": {},
   "source": [
    "## **Objectives**:"
   ]
  },
  {
   "cell_type": "markdown",
   "id": "8c1b3c35-7d5d-44f4-a918-f028033765d7",
   "metadata": {},
   "source": [
    "- Popular languages\n",
    "- Commonly used libraries\n",
    "- Jupyter\n",
    "- Github"
   ]
  },
  {
   "cell_type": "markdown",
   "id": "806e3884-6316-4513-be4a-c440aba01398",
   "metadata": {
    "tags": []
   },
   "source": [
    "### Some of the popular languages that Data Scientists use are:"
   ]
  },
  {
   "cell_type": "markdown",
   "id": "16d031e3-c317-4842-9d08-5056cdb24d4b",
   "metadata": {
    "tags": []
   },
   "source": [
    "1. Python \n",
    "2. R\n",
    "3. SQL"
   ]
  },
  {
   "cell_type": "markdown",
   "id": "bb3deee1-6492-41dc-97b6-0bb12b5d1d39",
   "metadata": {
    "tags": []
   },
   "source": [
    "### Some of the commonly used libraries used by Data Scientists include:"
   ]
  },
  {
   "cell_type": "markdown",
   "id": "8688403d-8d65-4eb6-bf24-997bf3dbc681",
   "metadata": {},
   "source": [
    "1. Pandas\n",
    "2. NumPy\n",
    "3. Scikit-Learn"
   ]
  },
  {
   "cell_type": "markdown",
   "id": "036edaec-4c78-424c-8638-f75e40fd5269",
   "metadata": {},
   "source": [
    "|Data Science Tools| \n",
    "| --- |\n",
    "|RStudio |\n",
    "|Apache Spark |\n",
    "|TensorFlow |"
   ]
  },
  {
   "cell_type": "markdown",
   "id": "4ff1b096-748d-4d5b-816f-b3c870e91eec",
   "metadata": {},
   "source": [
    "### Below are a few examples of evaluating arithmetic expressions in Python"
   ]
  },
  {
   "cell_type": "markdown",
   "id": "9a90d493-9d0d-40d8-9758-817a64de5745",
   "metadata": {},
   "source": [
    "##### This a simple arithmetic expression to mutiply then add integers"
   ]
  },
  {
   "cell_type": "code",
   "execution_count": 4,
   "id": "fb95116d-c0ba-4fbb-9b66-f171bea5a5b6",
   "metadata": {
    "tags": []
   },
   "outputs": [
    {
     "data": {
      "text/plain": [
       "17"
      ]
     },
     "execution_count": 4,
     "metadata": {},
     "output_type": "execute_result"
    }
   ],
   "source": [
    "(3*4)+5"
   ]
  },
  {
   "cell_type": "markdown",
   "id": "eedcfbca-14f6-4412-ae00-dbdb1014c505",
   "metadata": {},
   "source": [
    "##### This will convert 200 minutes to hours by diving by 60"
   ]
  },
  {
   "cell_type": "code",
   "execution_count": 6,
   "id": "4c111356-a3f6-44d3-83bd-871d82e07bc7",
   "metadata": {
    "tags": []
   },
   "outputs": [
    {
     "name": "stdout",
     "output_type": "stream",
     "text": [
      "3:20\n"
     ]
    }
   ],
   "source": [
    "total_minutes = 200\n",
    "hours = total_minutes // 60\n",
    "minutes = total_minutes % 60\n",
    "time = \"{}:{}\".format(hours, minutes)\n",
    "\n",
    "print(time)"
   ]
  },
  {
   "cell_type": "markdown",
   "id": "5849be57-1718-4496-b321-c700b76e2ae8",
   "metadata": {},
   "source": [
    "## Author"
   ]
  },
  {
   "cell_type": "markdown",
   "id": "b4cf8b44-1357-4167-adff-566479ca58e4",
   "metadata": {
    "tags": []
   },
   "source": [
    "Emanuele Buffa\n"
   ]
  },
  {
   "cell_type": "code",
   "execution_count": null,
   "id": "1dd70687-e932-4b6e-bdfc-9bc8e1ddbb4e",
   "metadata": {},
   "outputs": [],
   "source": []
  }
 ],
 "metadata": {
  "kernelspec": {
   "display_name": "Python",
   "language": "python",
   "name": "conda-env-python-py"
  },
  "language_info": {
   "codemirror_mode": {
    "name": "ipython",
    "version": 3
   },
   "file_extension": ".py",
   "mimetype": "text/x-python",
   "name": "python",
   "nbconvert_exporter": "python",
   "pygments_lexer": "ipython3",
   "version": "3.7.12"
  }
 },
 "nbformat": 4,
 "nbformat_minor": 5
}
